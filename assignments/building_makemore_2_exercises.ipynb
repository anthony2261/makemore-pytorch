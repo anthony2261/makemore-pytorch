{
 "cells": [
  {
   "cell_type": "markdown",
   "metadata": {},
   "source": [
    "Exercises:\n",
    "- E01: Tune the hyperparameters of the training to beat my best validation loss of 2.2\n",
    "- E02: I was not careful with the intialization of the network in this video. (1) What is the loss you'd get if the predicted probabilities at initialization were perfectly uniform? What loss do we achieve? (2) Can you tune the initialization to get a starting loss that is much more similar to (1)?\n",
    "- E03: Read the Bengio et al 2003 paper (link above), implement and try any idea from the paper. Did it work?"
   ]
  },
  {
   "cell_type": "code",
   "execution_count": 2,
   "metadata": {},
   "outputs": [],
   "source": [
    "import torch\n",
    "import torch.nn.functional as F\n",
    "import matplotlib.pyplot as plt # for making figures\n",
    "%matplotlib inline"
   ]
  },
  {
   "cell_type": "code",
   "execution_count": 3,
   "metadata": {},
   "outputs": [
    {
     "data": {
      "text/plain": [
       "['emma', 'olivia', 'ava', 'isabella', 'sophia', 'charlotte', 'mia', 'amelia']"
      ]
     },
     "execution_count": 3,
     "metadata": {},
     "output_type": "execute_result"
    }
   ],
   "source": [
    "words = open('names.txt', 'r').read().splitlines()\n",
    "words[:8]"
   ]
  },
  {
   "cell_type": "code",
   "execution_count": 4,
   "metadata": {},
   "outputs": [
    {
     "data": {
      "text/plain": [
       "32033"
      ]
     },
     "execution_count": 4,
     "metadata": {},
     "output_type": "execute_result"
    }
   ],
   "source": [
    "len(words)"
   ]
  },
  {
   "cell_type": "code",
   "execution_count": 5,
   "metadata": {},
   "outputs": [
    {
     "name": "stdout",
     "output_type": "stream",
     "text": [
      "{1: 'a', 2: 'b', 3: 'c', 4: 'd', 5: 'e', 6: 'f', 7: 'g', 8: 'h', 9: 'i', 10: 'j', 11: 'k', 12: 'l', 13: 'm', 14: 'n', 15: 'o', 16: 'p', 17: 'q', 18: 'r', 19: 's', 20: 't', 21: 'u', 22: 'v', 23: 'w', 24: 'x', 25: 'y', 26: 'z', 0: '.'}\n"
     ]
    }
   ],
   "source": [
    "# build the vocabulary of characters and mappings to/from integers\n",
    "chars = sorted(list(set(''.join(words))))\n",
    "stoi = {s:i+1 for i,s in enumerate(chars)}\n",
    "stoi['.'] = 0\n",
    "itos = {i:s for s,i in stoi.items()}\n",
    "print(itos)"
   ]
  },
  {
   "cell_type": "markdown",
   "metadata": {},
   "source": [
    "## E01: Tune the hyperparameters of the training to beat my best validation loss of 2.2"
   ]
  },
  {
   "cell_type": "markdown",
   "metadata": {},
   "source": [
    "There are many things to try:\n",
    "- [x] Train longer\n",
    "- [X] Play with the size of the neural net (hidden layer)\n",
    "- [X] Increase the number of characters as input\n",
    "- [X] Change dimensionality of embedding lookup table\n",
    "- [X] better batch size\n",
    "- [X] better learning rate decay"
   ]
  },
  {
   "cell_type": "code",
   "execution_count": 63,
   "metadata": {},
   "outputs": [],
   "source": [
    "# Hyperparameters\n",
    "block_size = 4 # context length: how many characters do we take to predict the next one?\n",
    "char_embedding_size = 15\n",
    "hidden_layer_size = 300\n",
    "batch_size = 128"
   ]
  },
  {
   "cell_type": "code",
   "execution_count": 64,
   "metadata": {},
   "outputs": [
    {
     "name": "stdout",
     "output_type": "stream",
     "text": [
      "torch.Size([182424, 4]) torch.Size([182424])\n",
      "torch.Size([22836, 4]) torch.Size([22836])\n",
      "torch.Size([22886, 4]) torch.Size([22886])\n"
     ]
    }
   ],
   "source": [
    "# build the dataset\n",
    "\n",
    "def build_dataset(words):\n",
    "  X, Y = [], []\n",
    "  for w in words:\n",
    "\n",
    "    #print(w)\n",
    "    context = [0] * block_size\n",
    "    for ch in w + '.':\n",
    "      ix = stoi[ch]\n",
    "      X.append(context)\n",
    "      Y.append(ix)\n",
    "      #print(''.join(itos[i] for i in context), '--->', itos[ix])\n",
    "      context = context[1:] + [ix] # crop and append\n",
    "\n",
    "  X = torch.tensor(X)\n",
    "  Y = torch.tensor(Y)\n",
    "  print(X.shape, Y.shape)\n",
    "  return X, Y\n",
    "\n",
    "import random\n",
    "random.seed(42)\n",
    "random.shuffle(words)\n",
    "n1 = int(0.8*len(words))\n",
    "n2 = int(0.9*len(words))\n",
    "\n",
    "Xtr, Ytr = build_dataset(words[:n1])\n",
    "Xdev, Ydev = build_dataset(words[n1:n2])\n",
    "Xte, Yte = build_dataset(words[n2:])"
   ]
  },
  {
   "cell_type": "code",
   "execution_count": 65,
   "metadata": {},
   "outputs": [],
   "source": [
    "g = torch.Generator().manual_seed(2147483647) # for reproducibility\n",
    "C = torch.randn((27, char_embedding_size), generator=g)\n",
    "W1 = torch.randn((block_size * char_embedding_size, hidden_layer_size), generator=g)\n",
    "b1 = torch.randn(hidden_layer_size, generator=g)\n",
    "W2 = torch.randn((hidden_layer_size, 27), generator=g)\n",
    "b2 = torch.randn(27, generator=g)\n",
    "parameters = [C, W1, b1, W2, b2]"
   ]
  },
  {
   "cell_type": "code",
   "execution_count": 66,
   "metadata": {},
   "outputs": [
    {
     "data": {
      "text/plain": [
       "26832"
      ]
     },
     "execution_count": 66,
     "metadata": {},
     "output_type": "execute_result"
    }
   ],
   "source": [
    "sum(p.nelement() for p in parameters) # number of parameters in total"
   ]
  },
  {
   "cell_type": "code",
   "execution_count": 67,
   "metadata": {},
   "outputs": [],
   "source": [
    "for p in parameters:\n",
    "  p.requires_grad = True"
   ]
  },
  {
   "cell_type": "code",
   "execution_count": 68,
   "metadata": {},
   "outputs": [],
   "source": [
    "lre = torch.linspace(-3, 0, 1000)\n",
    "lrs = 10**lre"
   ]
  },
  {
   "cell_type": "code",
   "execution_count": 69,
   "metadata": {},
   "outputs": [],
   "source": [
    "lri = []\n",
    "lossi = []\n",
    "stepi = []"
   ]
  },
  {
   "cell_type": "code",
   "execution_count": 70,
   "metadata": {},
   "outputs": [],
   "source": [
    "# import torch.optim.lr_scheduler.StepLR\n",
    "optimizer = torch.optim.SGD(parameters, lr=0.1)\n",
    "scheduler = torch.optim.lr_scheduler.StepLR(optimizer, step_size=50000, gamma=0.5)\n",
    "\n",
    "for i in range(200000):\n",
    "  \n",
    "  # minibatch construct\n",
    "  ix = torch.randint(0, Xtr.shape[0], (batch_size,))\n",
    "  \n",
    "  # forward pass\n",
    "  emb = C[Xtr[ix]] # (batch_size, block_size, char_embedding_size)\n",
    "  h = torch.tanh(emb.view(-1,  block_size * char_embedding_size) @ W1 + b1) # (batch_size, hidden_layer_size)\n",
    "  logits = h @ W2 + b2 # (batch_size, 27)\n",
    "  loss = F.cross_entropy(logits, Ytr[ix])\n",
    "  #print(loss.item())\n",
    "  \n",
    "  # backward pass\n",
    "  # for p in parameters:\n",
    "  #   p.grad = None\n",
    "  optimizer.zero_grad()\n",
    "  loss.backward()\n",
    "  # update parameters\n",
    "  optimizer.step()\n",
    "  scheduler.step()\n",
    "\n",
    "  # update\n",
    "  #lr = lrs[i]\n",
    "  # lr = 0.1 if i < 100000 else 0.01\n",
    "  # for p in parameters:\n",
    "  #   p.data += -lr * p.grad\n",
    "\n",
    "  # track stats\n",
    "  #lri.append(lre[i])\n",
    "  stepi.append(i)\n",
    "  lossi.append(loss.log10().item())\n",
    "\n",
    "#print(loss.item())"
   ]
  },
  {
   "cell_type": "code",
   "execution_count": 75,
   "metadata": {},
   "outputs": [
    {
     "data": {
      "text/plain": [
       "0.00625"
      ]
     },
     "execution_count": 75,
     "metadata": {},
     "output_type": "execute_result"
    }
   ],
   "source": [
    "optimizer.param_groups[0]['lr']"
   ]
  },
  {
   "cell_type": "code",
   "execution_count": 71,
   "metadata": {},
   "outputs": [
    {
     "data": {
      "text/plain": [
       "[<matplotlib.lines.Line2D at 0x7f41cba85390>]"
      ]
     },
     "execution_count": 71,
     "metadata": {},
     "output_type": "execute_result"
    },
    {
     "data": {
      "image/png": "[encoded data removed]",
      "text/plain": [
       "<Figure size 640x480 with 1 Axes>"
      ]
     },
     "metadata": {},
     "output_type": "display_data"
    }
   ],
   "source": [
    "plt.plot(stepi, lossi)"
   ]
  },
  {
   "cell_type": "code",
   "execution_count": 72,
   "metadata": {},
   "outputs": [
    {
     "data": {
      "text/plain": [
       "tensor(2.0918, grad_fn=<NllLossBackward0>)"
      ]
     },
     "execution_count": 72,
     "metadata": {},
     "output_type": "execute_result"
    }
   ],
   "source": [
    "# training loss\n",
    "emb = C[Xtr] # (len(Xtr), block_size, char_embedding_size)\n",
    "h = torch.tanh(emb.view(-1, block_size * char_embedding_size) @ W1 + b1) # (len(Xtr), hidden_layer_size)\n",
    "logits = h @ W2 + b2 # (len(Xtr), 27)\n",
    "loss = F.cross_entropy(logits, Ytr)\n",
    "loss"
   ]
  },
  {
   "cell_type": "code",
   "execution_count": 73,
   "metadata": {},
   "outputs": [
    {
     "data": {
      "text/plain": [
       "tensor(2.1586, grad_fn=<NllLossBackward0>)"
      ]
     },
     "execution_count": 73,
     "metadata": {},
     "output_type": "execute_result"
    }
   ],
   "source": [
    "# validation loss\n",
    "emb = C[Xdev] # (len(Xdev), block_size, char_embedding_size)\n",
    "h = torch.tanh(emb.view(-1, block_size * char_embedding_size) @ W1 + b1) # (len(Xdev), hidden_layer_size)\n",
    "logits = h @ W2 + b2 # (len(Xdev), 27)\n",
    "loss = F.cross_entropy(logits, Ydev)\n",
    "loss"
   ]
  },
  {
   "cell_type": "code",
   "execution_count": 74,
   "metadata": {},
   "outputs": [
    {
     "data": {
      "text/plain": [
       "tensor(2.1652, grad_fn=<NllLossBackward0>)"
      ]
     },
     "execution_count": 74,
     "metadata": {},
     "output_type": "execute_result"
    }
   ],
   "source": [
    "# test loss\n",
    "emb = C[Xte] # (len(Xte), block_size, char_embedding_size)\n",
    "h = torch.tanh(emb.view(-1, block_size * char_embedding_size) @ W1 + b1) # (len(Xte), hidden_layer_size)\n",
    "logits = h @ W2 + b2 # (len(Xte), 27)\n",
    "loss = F.cross_entropy(logits, Yte)\n",
    "loss"
   ]
  },
  {
   "cell_type": "code",
   "execution_count": null,
   "metadata": {},
   "outputs": [],
   "source": [
    "# # visualize dimensions 0 and 1 of the embedding matrix C for all characters\n",
    "# plt.figure(figsize=(8,8))\n",
    "# plt.scatter(C[:,0].data, C[:,1].data, s=200)\n",
    "# for i in range(C.shape[0]):\n",
    "#     plt.text(C[i,0].item(), C[i,1].item(), itos[i], ha=\"center\", va=\"center\", color='white')\n",
    "# plt.grid('minor')"
   ]
  },
  {
   "cell_type": "code",
   "execution_count": null,
   "metadata": {},
   "outputs": [],
   "source": [
    "# # sample from the model\n",
    "# g = torch.Generator().manual_seed(2147483647 + 10)\n",
    "\n",
    "# for _ in range(20):\n",
    "    \n",
    "#     out = []\n",
    "#     context = [0] * block_size # initialize with all ...\n",
    "#     while True:\n",
    "#       emb = C[torch.tensor([context])] # (1,block_size,d)\n",
    "#       h = torch.tanh(emb.view(1, -1) @ W1 + b1)\n",
    "#       logits = h @ W2 + b2\n",
    "#       probs = F.softmax(logits, dim=1)\n",
    "#       ix = torch.multinomial(probs, num_samples=1, generator=g).item()\n",
    "#       context = context[1:] + [ix]\n",
    "#       out.append(ix)\n",
    "#       if ix == 0:\n",
    "#         break\n",
    "    \n",
    "#     print(''.join(itos[i] for i in out))"
   ]
  },
  {
   "cell_type": "markdown",
   "metadata": {},
   "source": [
    "## E02: I was not careful with the intialization of the network in this video.\n",
    "(1) What is the loss you'd get if the predicted probabilities at initialization were perfectly uniform? What loss do we achieve?<br/>\n",
    "(2) Can you tune the initialization to get a starting loss that is much more similar to (1)?"
   ]
  },
  {
   "cell_type": "code",
   "execution_count": 35,
   "metadata": {},
   "outputs": [],
   "source": [
    "# Hyperparameters\n",
    "from typing import Callable\n",
    "\n",
    "\n",
    "block_size = 3 # context length: how many characters do we take to predict the next one?\n",
    "char_embedding_size = 10\n",
    "hidden_layer_size = 200\n",
    "batch_size = 32\n",
    "\n",
    "initialization: Callable[[tuple[int], torch.Generator], torch.Tensor] = torch.randn  # torch.zeros\n",
    "uniformization: Callable[[torch.Tensor], torch.Tensor] | None = None # torch.nn.init.xavier_uniform_  # or xavier_uniform_"
   ]
  },
  {
   "cell_type": "code",
   "execution_count": 45,
   "metadata": {},
   "outputs": [
    {
     "name": "stdout",
     "output_type": "stream",
     "text": [
      "torch.Size([182580, 3]) torch.Size([182580])\n",
      "torch.Size([22767, 3]) torch.Size([22767])\n",
      "torch.Size([22799, 3]) torch.Size([22799])\n"
     ]
    }
   ],
   "source": [
    "# build the dataset\n",
    "\n",
    "def build_dataset(words):\n",
    "  X, Y = [], []\n",
    "  for w in words:\n",
    "\n",
    "    #print(w)\n",
    "    context = [0] * block_size\n",
    "    for ch in w + '.':\n",
    "      ix = stoi[ch]\n",
    "      X.append(context)\n",
    "      Y.append(ix)\n",
    "      #print(''.join(itos[i] for i in context), '--->', itos[ix])\n",
    "      context = context[1:] + [ix] # crop and append\n",
    "\n",
    "  X = torch.tensor(X)\n",
    "  Y = torch.tensor(Y)\n",
    "  print(X.shape, Y.shape)\n",
    "  # if torch.cuda.is_available():\n",
    "  #   X = X.cuda()\n",
    "  #   Y = Y.cuda()\n",
    "  return X, Y\n",
    "\n",
    "import random\n",
    "random.seed(42)\n",
    "random.shuffle(words)\n",
    "n1 = int(0.8*len(words))\n",
    "n2 = int(0.9*len(words))\n",
    "\n",
    "Xtr, Ytr = build_dataset(words[:n1])\n",
    "Xdev, Ydev = build_dataset(words[n1:n2])\n",
    "Xte, Yte = build_dataset(words[n2:])"
   ]
  },
  {
   "cell_type": "code",
   "execution_count": 58,
   "metadata": {},
   "outputs": [
    {
     "name": "stdout",
     "output_type": "stream",
     "text": [
      "11897\n"
     ]
    }
   ],
   "source": [
    "g = torch.Generator().manual_seed(2147483647) # for reproducibility\n",
    "# Make C more uniform\n",
    "C = initialization((27, char_embedding_size), generator=g)\n",
    "W1 = initialization((block_size * char_embedding_size, hidden_layer_size), generator=g)\n",
    "b1 = initialization(hidden_layer_size, generator=g)\n",
    "W2 = initialization((hidden_layer_size, 27), generator=g)\n",
    "b2 = initialization(27, generator=g)\n",
    "\n",
    "# if torch.cuda.is_available():\n",
    "#   C = C.cuda()\n",
    "#   W1 = W1.cuda()\n",
    "#   b1 = b1.cuda()\n",
    "#   W2 = W2.cuda()\n",
    "#   b2 = b2.cuda()\n",
    "parameters: list[torch.Tensor] = [C, W1, b1, W2, b2]\n",
    "\n",
    "if uniformization is not None:\n",
    "  for p in parameters:\n",
    "    old_shape = p.shape\n",
    "    uniformization(p)\n",
    "    assert p.shape == old_shape\n",
    "\n",
    "\n",
    "\n",
    "print(sum(p.nelement() for p in parameters)) # number of parameters in total\n",
    "\n",
    "for p in parameters:\n",
    "  p.requires_grad = True"
   ]
  },
  {
   "cell_type": "code",
   "execution_count": 59,
   "metadata": {},
   "outputs": [],
   "source": [
    "lossi = []\n",
    "stepi = []"
   ]
  },
  {
   "cell_type": "code",
   "execution_count": 60,
   "metadata": {},
   "outputs": [],
   "source": [
    "# import torch.optim.lr_scheduler.StepLR\n",
    "# optimizer = torch.optim.SGD(parameters, lr=0.1)\n",
    "# scheduler = torch.optim.lr_scheduler.StepLR(optimizer, step_size=50000, gamma=0.5)\n",
    "\n",
    "for i in range(200000):\n",
    "    # minibatch construct\n",
    "    ix = torch.randint(0, Xtr.shape[0], (batch_size,))\n",
    "\n",
    "    # forward pass\n",
    "    emb = C[Xtr[ix]]  # (batch_size, block_size, char_embedding_size)\n",
    "    h = torch.tanh(emb.view(-1, block_size * char_embedding_size) @ W1 + b1)  # (batch_size, hidden_layer_size)\n",
    "    logits = h @ W2 + b2  # (batch_size, 27)\n",
    "    loss = F.cross_entropy(logits, Ytr[ix])\n",
    "    # print(loss.item())\n",
    "\n",
    "    # backward pass\n",
    "    for p in parameters:\n",
    "        p.grad = None\n",
    "    # optimizer.zero_grad()\n",
    "    loss.backward()\n",
    "    # update parameters\n",
    "    # optimizer.step()\n",
    "    # scheduler.step()\n",
    "\n",
    "    # update\n",
    "    # lr = lrs[i]\n",
    "    lr = 0.1 if i < 100000 else 0.01\n",
    "    for p in parameters:\n",
    "        p.data += -lr * p.grad\n",
    "\n",
    "    # track stats\n",
    "    stepi.append(i)\n",
    "    lossi.append(loss.log10().item())\n",
    "\n",
    "# print(loss.item())"
   ]
  },
  {
   "cell_type": "code",
   "execution_count": 74,
   "metadata": {},
   "outputs": [],
   "source": [
    "# %load_ext line_profiler"
   ]
  },
  {
   "cell_type": "code",
   "execution_count": 61,
   "metadata": {},
   "outputs": [
    {
     "data": {
      "text/plain": [
       "[<matplotlib.lines.Line2D at 0x7fbee8634c70>]"
      ]
     },
     "execution_count": 61,
     "metadata": {},
     "output_type": "execute_result"
    },
    {
     "data": {
      "image/png": "[encoded data removed]",
      "text/plain": [
       "<Figure size 640x480 with 1 Axes>"
      ]
     },
     "metadata": {},
     "output_type": "display_data"
    }
   ],
   "source": [
    "plt.plot(stepi, lossi)"
   ]
  },
  {
   "cell_type": "code",
   "execution_count": 40,
   "metadata": {},
   "outputs": [
    {
     "data": {
      "text/plain": [
       "tensor(2.1250, grad_fn=<NllLossBackward0>)"
      ]
     },
     "execution_count": 40,
     "metadata": {},
     "output_type": "execute_result"
    }
   ],
   "source": [
    "# training loss\n",
    "emb = C[Xtr] # (len(Xtr), block_size, char_embedding_size)\n",
    "h = torch.tanh(emb.view(-1, block_size * char_embedding_size) @ W1 + b1) # (len(Xtr), hidden_layer_size)\n",
    "logits = h @ W2 + b2 # (len(Xtr), 27)\n",
    "loss = F.cross_entropy(logits, Ytr)\n",
    "loss"
   ]
  },
  {
   "cell_type": "code",
   "execution_count": 41,
   "metadata": {},
   "outputs": [
    {
     "data": {
      "text/plain": [
       "tensor(2.1630, grad_fn=<NllLossBackward0>)"
      ]
     },
     "execution_count": 41,
     "metadata": {},
     "output_type": "execute_result"
    }
   ],
   "source": [
    "# validation loss\n",
    "emb = C[Xdev] # (len(Xdev), block_size, char_embedding_size)\n",
    "h = torch.tanh(emb.view(-1, block_size * char_embedding_size) @ W1 + b1) # (len(Xdev), hidden_layer_size)\n",
    "logits = h @ W2 + b2 # (len(Xdev), 27)\n",
    "loss = F.cross_entropy(logits, Ydev)\n",
    "loss"
   ]
  },
  {
   "cell_type": "code",
   "execution_count": 42,
   "metadata": {},
   "outputs": [
    {
     "data": {
      "text/plain": [
       "tensor(2.1664, grad_fn=<NllLossBackward0>)"
      ]
     },
     "execution_count": 42,
     "metadata": {},
     "output_type": "execute_result"
    }
   ],
   "source": [
    "# test loss\n",
    "emb = C[Xte] # (len(Xte), block_size, char_embedding_size)\n",
    "h = torch.tanh(emb.view(-1, block_size * char_embedding_size) @ W1 + b1) # (len(Xte), hidden_layer_size)\n",
    "logits = h @ W2 + b2 # (len(Xte), 27)\n",
    "loss = F.cross_entropy(logits, Yte)\n",
    "loss"
   ]
  },
  {
   "cell_type": "markdown",
   "metadata": {},
   "source": [
    "## E03: Read the Bengio et al 2003 paper (link above), implement and try any idea from the paper. Did it work?"
   ]
  },
  {
   "attachments": {
    "image.png": {
     "image/png": "[encoded data removed]"
    }
   },
   "cell_type": "markdown",
   "metadata": {},
   "source": [
    "Paper definitions:\n",
    "- `V` is the vocabulary\n",
    "- `h` is the number of hidden units\n",
    "- `m` the number of features associated with each word (embedding vector size)\n",
    "- `n` is the number of previous words used as features (context size)\n",
    "- `direct`: whether there are direct connections from word features to outputs\n",
    "- `mix`: whether the output probabilities of the neural network are mixed with the output of the trigram (with a weight of 0.5 on each).\n",
    "\n",
    "![image.png](attachment:image.png)\n",
    "\n",
    "Things mentioned in the paper:\n",
    "- `y = b + Wx + Utanh(d + Hx)`\n",
    "    - `W` is optionally zero (no direct connections)\n",
    "    - `x` is the word features layer activation vector, which is the concatenation of the input word features from the matrix `C`:<br/>\n",
    "        `x = (C(wt−1), C(wt−2), ..., C(wt−n+1))`\n",
    "    - `b` (with `|V|` elements)\n",
    "    - `d` (with `h` elements)\n",
    "    - the hidden-to-output weights `U` (a `|V| x h` matrix)\n",
    "    - the word features to output weights `W` (a `|V| x (n−1)m` matrix)\n",
    "    - the word features `C` (a `|V| x m` matrix)\n",
    "    - all the parameters are `theta = (b, d, W, U, H, C)`\n",
    "\n",
    "- Weight decay regularization (between `10-4` and `10-5`)\n",
    "    - \"*Like in ridge regression, the squared norm of the parameters is penalized.*\"\n",
    "    - \"*(by subtracting the weight decay factor times the learning rate times the value of the parameter, from each parameter, at each update)*\"\n",
    "- the initial learning rate was set to `e0 = 10−3`, and gradually decreased according to the following schedule:<br/>\n",
    "    `et = e0/(1+rt)` where `t` represents the step number and `r` is a decrease factor that was chosen to be `r = 10−8`\n",
    "\n",
    "Results table:\n",
    "<table>\n",
    "    <tr>\n",
    "        <th>Model</th>\n",
    "        <th>n</th>\n",
    "        <th>h</th>\n",
    "        <th>m</th>\n",
    "        <th>direct</th>\n",
    "        <th>mix</th>\n",
    "    </tr>\n",
    "    <tr>\n",
    "        <td>MLP1</td>\n",
    "        <td>5</td>\n",
    "        <td>50</td>\n",
    "        <td>60</td>\n",
    "        <td>yes</td>\n",
    "        <td>no</td>\n",
    "    </tr>\n",
    "    <tr>\n",
    "        <td>MLP2</td>\n",
    "        <td>5</td>\n",
    "        <td>50</td>\n",
    "        <td>60</td>\n",
    "        <td>yes</td>\n",
    "        <td>yes</td>\n",
    "    </tr>\n",
    "    <tr>\n",
    "        <td>MLP3</td>\n",
    "        <td>5</td>\n",
    "        <td>50</td>\n",
    "        <td>60</td>\n",
    "        <td>yes</td>\n",
    "        <td>no</td>\n",
    "    </tr>\n",
    "    <tr>\n",
    "        <td>...</td>\n",
    "        <td>...</td>\n",
    "        <td>...</td>\n",
    "        <td>...</td>\n",
    "        <td>...</td>\n",
    "        <td>...</td>\n",
    "    </tr>\n",
    " "
   ]
  },
  {
   "cell_type": "code",
   "execution_count": 15,
   "metadata": {},
   "outputs": [],
   "source": [
    "# Hyperparameters\n",
    "from typing import Callable\n",
    "\n",
    "\n",
    "block_size = 3 # context length: how many characters do we take to predict the next one?\n",
    "char_embedding_size = 10\n",
    "hidden_layer_size = 200\n",
    "batch_size = 32\n",
    "regularization = 1e-3\n",
    "\n",
    "\n",
    "initialization: Callable[[tuple[int], torch.Generator], torch.Tensor] = torch.randn  # torch.zeros\n",
    "uniformization: Callable[[torch.Tensor], torch.Tensor] | None = None # torch.nn.init.xavier_uniform_  # or xavier_uniform_\n",
    "\n",
    "direct = True\n"
   ]
  },
  {
   "cell_type": "code",
   "execution_count": 7,
   "metadata": {},
   "outputs": [
    {
     "name": "stdout",
     "output_type": "stream",
     "text": [
      "torch.Size([182625, 3]) torch.Size([182625])\n",
      "torch.Size([22655, 3]) torch.Size([22655])\n",
      "torch.Size([22866, 3]) torch.Size([22866])\n"
     ]
    }
   ],
   "source": [
    "# build the dataset\n",
    "\n",
    "def build_dataset(words):\n",
    "  X, Y = [], []\n",
    "  for w in words:\n",
    "\n",
    "    #print(w)\n",
    "    context = [0] * block_size\n",
    "    for ch in w + '.':\n",
    "      ix = stoi[ch]\n",
    "      X.append(context)\n",
    "      Y.append(ix)\n",
    "      #print(''.join(itos[i] for i in context), '--->', itos[ix])\n",
    "      context = context[1:] + [ix] # crop and append\n",
    "\n",
    "  X = torch.tensor(X)\n",
    "  Y = torch.tensor(Y)\n",
    "  print(X.shape, Y.shape)\n",
    "  # if torch.cuda.is_available():\n",
    "  #   X = X.cuda()\n",
    "  #   Y = Y.cuda()\n",
    "  return X, Y\n",
    "\n",
    "import random\n",
    "random.seed(42)\n",
    "random.shuffle(words)\n",
    "n1 = int(0.8*len(words))\n",
    "n2 = int(0.9*len(words))\n",
    "\n",
    "Xtr, Ytr = build_dataset(words[:n1])\n",
    "Xdev, Ydev = build_dataset(words[n1:n2])\n",
    "Xte, Yte = build_dataset(words[n2:])"
   ]
  },
  {
   "cell_type": "code",
   "execution_count": 16,
   "metadata": {},
   "outputs": [
    {
     "name": "stdout",
     "output_type": "stream",
     "text": [
      "12707\n"
     ]
    }
   ],
   "source": [
    "g = torch.Generator().manual_seed(2147483647)  # for reproducibility\n",
    "# Make C more uniform\n",
    "C: torch.Tensor = initialization((27, char_embedding_size), generator=g)\n",
    "W1 = initialization((block_size * char_embedding_size, hidden_layer_size), generator=g)\n",
    "b1 = initialization(hidden_layer_size, generator=g)\n",
    "W2 = initialization((hidden_layer_size, 27), generator=g)\n",
    "b2 = initialization(27, generator=g)\n",
    "\n",
    "parameters: list[torch.Tensor] = [C, W1, b1, W2, b2]\n",
    "\n",
    "if direct:\n",
    "    # `(n−1)m x |V|`\n",
    "    Wd = initialization((block_size * char_embedding_size, 27), generator=g)\n",
    "    parameters.append(Wd)\n",
    "\n",
    "if uniformization is not None:\n",
    "    for p in parameters:\n",
    "        old_shape = p.shape\n",
    "        uniformization(p)\n",
    "        assert p.shape == old_shape\n",
    "\n",
    "\n",
    "print(sum(p.nelement() for p in parameters))  # number of parameters in total\n",
    "\n",
    "for p in parameters:\n",
    "    p.requires_grad = True"
   ]
  },
  {
   "cell_type": "code",
   "execution_count": 17,
   "metadata": {},
   "outputs": [],
   "source": [
    "lossi = []\n",
    "stepi = []"
   ]
  },
  {
   "cell_type": "code",
   "execution_count": 18,
   "metadata": {},
   "outputs": [],
   "source": [
    "# optimizer = torch.optim.SGD(parameters, lr=0.1)\n",
    "# scheduler = torch.optim.lr_scheduler.StepLR(optimizer, step_size=50000, gamma=0.5)\n",
    "\n",
    "for i in range(200000):\n",
    "    # minibatch construct\n",
    "    ix = torch.randint(0, Xtr.shape[0], (batch_size,))\n",
    "\n",
    "    # forward pass\n",
    "    emb = C[Xtr[ix]]  # (batch_size, block_size, char_embedding_size)\n",
    "    h = torch.tanh(emb.view(-1, block_size * char_embedding_size) @ W1 + b1)  # (batch_size, hidden_layer_size)\n",
    "    logits = h @ W2 + b2  # (batch_size, 27)\n",
    "    if direct:\n",
    "        logits += emb.view(-1, block_size * char_embedding_size) @ Wd\n",
    "    # compute Ridge regularization term\n",
    "    ridge_term = 0\n",
    "    if regularization > 0:\n",
    "        ridge_parameters: list[torch.Tensor] = [W1, W2]\n",
    "        if direct:\n",
    "            ridge_parameters.append(Wd)\n",
    "        ridge_term = regularization * sum(torch.sum(param**2) for param in ridge_parameters)\n",
    "    loss = F.cross_entropy(logits, Ytr[ix]) + ridge_term\n",
    "    # print(loss.item())\n",
    "\n",
    "    # backward pass\n",
    "    for p in parameters:\n",
    "        p.grad = None\n",
    "    # optimizer.zero_grad()\n",
    "    loss.backward()\n",
    "    # update parameters\n",
    "    # optimizer.step()\n",
    "    # scheduler.step()\n",
    "\n",
    "    # update\n",
    "    # lr = lrs[i]\n",
    "    lr = 0.1 if i < 100000 else 0.01\n",
    "    for p in parameters:\n",
    "        p.data += -lr * p.grad\n",
    "\n",
    "    # track stats\n",
    "    stepi.append(i)\n",
    "    lossi.append(loss.log10().item())\n",
    "\n",
    "# print(loss.item())"
   ]
  },
  {
   "cell_type": "code",
   "execution_count": 19,
   "metadata": {},
   "outputs": [
    {
     "data": {
      "text/plain": [
       "[<matplotlib.lines.Line2D at 0x7fdeca7038b0>]"
      ]
     },
     "execution_count": 19,
     "metadata": {},
     "output_type": "execute_result"
    },
    {
     "data": {
      "image/png": "[encoded data removed]",
      "text/plain": [
       "<Figure size 640x480 with 1 Axes>"
      ]
     },
     "metadata": {},
     "output_type": "display_data"
    }
   ],
   "source": [
    "plt.plot(stepi, lossi)"
   ]
  },
  {
   "cell_type": "code",
   "execution_count": 20,
   "metadata": {},
   "outputs": [
    {
     "data": {
      "text/plain": [
       "tensor(2.4565, grad_fn=<NllLossBackward0>)"
      ]
     },
     "execution_count": 20,
     "metadata": {},
     "output_type": "execute_result"
    }
   ],
   "source": [
    "# training loss\n",
    "emb = C[Xtr] # (len(Xtr), block_size, char_embedding_size)\n",
    "h = torch.tanh(emb.view(-1, block_size * char_embedding_size) @ W1 + b1) # (len(Xtr), hidden_layer_size)\n",
    "logits = h @ W2 + b2 # (len(Xtr), 27)\n",
    "loss = F.cross_entropy(logits, Ytr)\n",
    "loss"
   ]
  },
  {
   "cell_type": "code",
   "execution_count": 21,
   "metadata": {},
   "outputs": [
    {
     "data": {
      "text/plain": [
       "tensor(2.4590, grad_fn=<NllLossBackward0>)"
      ]
     },
     "execution_count": 21,
     "metadata": {},
     "output_type": "execute_result"
    }
   ],
   "source": [
    "# validation loss\n",
    "emb = C[Xdev] # (len(Xdev), block_size, char_embedding_size)\n",
    "h = torch.tanh(emb.view(-1, block_size * char_embedding_size) @ W1 + b1) # (len(Xdev), hidden_layer_size)\n",
    "logits = h @ W2 + b2 # (len(Xdev), 27)\n",
    "loss = F.cross_entropy(logits, Ydev)\n",
    "loss"
   ]
  },
  {
   "cell_type": "code",
   "execution_count": 22,
   "metadata": {},
   "outputs": [
    {
     "data": {
      "text/plain": [
       "tensor(2.4634, grad_fn=<NllLossBackward0>)"
      ]
     },
     "execution_count": 22,
     "metadata": {},
     "output_type": "execute_result"
    }
   ],
   "source": [
    "# test loss\n",
    "emb = C[Xte] # (len(Xte), block_size, char_embedding_size)\n",
    "h = torch.tanh(emb.view(-1, block_size * char_embedding_size) @ W1 + b1) # (len(Xte), hidden_layer_size)\n",
    "logits = h @ W2 + b2 # (len(Xte), 27)\n",
    "loss = F.cross_entropy(logits, Yte)\n",
    "loss"
   ]
  },
  {
   "cell_type": "code",
   "execution_count": null,
   "metadata": {},
   "outputs": [],
   "source": []
  }
 ],
 "metadata": {
  "kernelspec": {
   "display_name": "karpathy",
   "language": "python",
   "name": "python3"
  },
  "language_info": {
   "codemirror_mode": {
    "name": "ipython",
    "version": 3
   },
   "file_extension": ".py",
   "mimetype": "text/x-python",
   "name": "python",
   "nbconvert_exporter": "python",
   "pygments_lexer": "ipython3",
   "version": "3.10.11"
  }
 },
 "nbformat": 4,
 "nbformat_minor": 2
}
