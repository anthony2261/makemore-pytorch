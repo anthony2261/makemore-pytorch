{
 "cells": [
  {
   "cell_type": "markdown",
   "metadata": {},
   "source": [
    "Exercises:\n",
    "- E01: I did not get around to seeing what happens when you initialize all weights and biases to zero. Try this and train the neural net. You might think either that 1) the network trains just fine or 2) the network doesn't train at all, but actually it is 3) the network trains but only partially, and achieves a pretty bad final performance. Inspect the gradients and activations to figure out what is happening and why the network is only partially training, and what part is being trained exactly.\n",
    "- E02: BatchNorm, unlike other normalization layers like LayerNorm/GroupNorm etc. has the big advantage that after training, the batchnorm gamma/beta can be \"folded into\" the weights of the preceeding Linear layers, effectively erasing the need to forward it at test time. Set up a small 3-layer MLP with batchnorms, train the network, then \"fold\" the batchnorm gamma/beta into the preceeding Linear layer's W,b by creating a new W2, b2 and erasing the batch norm. Verify that this gives the same forward pass during inference. i.e. we see that the batchnorm is there just for stabilizing the training, and can be thrown out after training is done! pretty cool."
   ]
  },
  {
   "cell_type": "code",
   "execution_count": 1,
   "metadata": {},
   "outputs": [],
   "source": [
    "import torch\n",
    "import torch.nn.functional as F\n",
    "import matplotlib.pyplot as plt\n",
    "%matplotlib inline"
   ]
  },
  {
   "cell_type": "code",
   "execution_count": 2,
   "metadata": {},
   "outputs": [
    {
     "data": {
      "text/plain": [
       "['emma', 'olivia', 'ava', 'isabella', 'sophia', 'charlotte', 'mia', 'amelia']"
      ]
     },
     "execution_count": 2,
     "metadata": {},
     "output_type": "execute_result"
    }
   ],
   "source": [
    "# read in all the words\n",
    "words = open(\"names.txt\", \"r\").read().splitlines()\n",
    "words[:8]"
   ]
  },
  {
   "cell_type": "code",
   "execution_count": 3,
   "metadata": {},
   "outputs": [
    {
     "data": {
      "text/plain": [
       "32033"
      ]
     },
     "execution_count": 3,
     "metadata": {},
     "output_type": "execute_result"
    }
   ],
   "source": [
    "len(words)"
   ]
  },
  {
   "cell_type": "code",
   "execution_count": 4,
   "metadata": {},
   "outputs": [
    {
     "name": "stdout",
     "output_type": "stream",
     "text": [
      "{1: 'a', 2: 'b', 3: 'c', 4: 'd', 5: 'e', 6: 'f', 7: 'g', 8: 'h', 9: 'i', 10: 'j', 11: 'k', 12: 'l', 13: 'm', 14: 'n', 15: 'o', 16: 'p', 17: 'q', 18: 'r', 19: 's', 20: 't', 21: 'u', 22: 'v', 23: 'w', 24: 'x', 25: 'y', 26: 'z', 0: '.'}\n",
      "27\n"
     ]
    }
   ],
   "source": [
    "# build the vocabulary of characters and mappings to/from integers\n",
    "chars = sorted(list(set(\"\".join(words))))\n",
    "stoi = {s: i + 1 for i, s in enumerate(chars)}\n",
    "stoi[\".\"] = 0\n",
    "itos = {i: s for s, i in stoi.items()}\n",
    "vocab_size = len(itos)\n",
    "print(itos)\n",
    "print(vocab_size)"
   ]
  },
  {
   "cell_type": "code",
   "execution_count": 5,
   "metadata": {},
   "outputs": [],
   "source": [
    "# build the dataset\n",
    "\n",
    "block_size = 3  # context length: how many characters do we take to predict the next one\n",
    "def build_dataset(words):\n",
    "    X, Y = [], []\n",
    "    for w in words:\n",
    "        context = [0] * block_size\n",
    "        for ch in w + \".\":\n",
    "            ix = stoi[ch]\n",
    "            X.append(context)\n",
    "            Y.append(ix)\n",
    "            context = context[1:] + [ix]  # crop and append\n",
    "\n",
    "    X = torch.tensor(X)\n",
    "    Y = torch.tensor(Y)\n",
    "    return X, Y\n",
    "\n",
    "import random\n",
    "random.seed(42)\n",
    "random.shuffle(words)\n",
    "n1 = int(len(words) * 0.8)\n",
    "n2 = int(len(words) * 0.9)\n",
    "\n",
    "Xtr, Ytr = build_dataset(words[:n1])  # 80%\n",
    "Xdev, Ydev = build_dataset(words[n1:n2])  # 10%\n",
    "Xte, Yte = build_dataset(words[n2:])  # 10%"
   ]
  },
  {
   "cell_type": "markdown",
   "metadata": {},
   "source": [
    "## E01:\n",
    "I did not get around to seeing what happens when you initialize all weights and biases to zero. Try this and train the neural net. You might think either that 1) the network trains just fine or 2) the network doesn't train at all, but actually it is 3) the network trains but only partially, and achieves a pretty bad final performance. Inspect the gradients and activations to figure out what is happening and why the network is only partially training, and what part is being trained exactly."
   ]
  },
  {
   "cell_type": "code",
   "execution_count": 6,
   "metadata": {},
   "outputs": [
    {
     "name": "stdout",
     "output_type": "stream",
     "text": [
      "47024\n"
     ]
    }
   ],
   "source": [
    "class Linear:\n",
    "    def __init__(self, fan_in, fan_out, bias=True):\n",
    "        # self.weight = torch.randn((fan_in, fan_out), generator=g) / (fan_in**0.5)\n",
    "        self.weight = torch.zeros((fan_in, fan_out))\n",
    "        self.bias = torch.zeros(fan_out) if bias else None\n",
    "\n",
    "    def __call__(self, x):\n",
    "        self.out = x @ self.weight\n",
    "        if self.bias is not None:\n",
    "            self.out += self.bias\n",
    "        return self.out\n",
    "\n",
    "    def parameters(self):\n",
    "        if self.bias is not None:\n",
    "            return [self.weight, self.bias]\n",
    "        return [self.weight]\n",
    "\n",
    "\n",
    "class BatchNorm1d:\n",
    "    def __init__(self, dim, eps=1e-5, momentum=0.1):\n",
    "        self.eps = eps\n",
    "        self.momentum = momentum\n",
    "        self.training = True\n",
    "        # parameters (trained with backprop)\n",
    "        self.gamma = torch.ones(dim)\n",
    "        self.beta = torch.zeros(dim)\n",
    "        # buffers (trained with a running 'momentum update')\n",
    "        self.running_mean = torch.zeros(dim)\n",
    "        self.running_var = torch.ones(dim)\n",
    "\n",
    "    def __call__(self, x: torch.Tensor):\n",
    "        # calculate the forward pass\n",
    "        if self.training:\n",
    "            xmean = x.mean(0, keepdim=True)\n",
    "            xvar = x.var(0, keepdim=True)\n",
    "        else:\n",
    "            xmean = self.running_mean\n",
    "            xvar = self.running_var\n",
    "        xhat = (x - xmean) / torch.sqrt(xvar + self.eps)  # normalize to unit variance\n",
    "        self.out = self.gamma * xhat + self.beta\n",
    "        # update the buffers\n",
    "        if self.training:\n",
    "            self.running_mean = (1 - self.momentum) * self.running_mean + self.momentum * xmean\n",
    "            self.running_var = (1 - self.momentum) * self.running_var + self.momentum * xvar\n",
    "        return self.out\n",
    "\n",
    "    def parameters(self):\n",
    "        return [self.gamma, self.beta]\n",
    "\n",
    "\n",
    "class Tanh:\n",
    "    def __call__(self, x):\n",
    "        self.out = torch.tanh(x)\n",
    "        return self.out\n",
    "\n",
    "    def parameters(self):\n",
    "        return []\n",
    "\n",
    "\n",
    "n_embd = 10\n",
    "n_hidden = 100\n",
    "g = torch.Generator().manual_seed(2147483647)\n",
    "\n",
    "C = torch.randn((vocab_size, n_embd), generator=g)\n",
    "layers = [\n",
    "    Linear(n_embd * block_size, n_hidden, bias=False),\n",
    "    BatchNorm1d(n_hidden),\n",
    "    Tanh(),\n",
    "    Linear(n_hidden, n_hidden, bias=False),\n",
    "    BatchNorm1d(n_hidden),\n",
    "    Tanh(),\n",
    "    Linear(n_hidden, n_hidden, bias=False),\n",
    "    BatchNorm1d(n_hidden),\n",
    "    Tanh(),\n",
    "    Linear(n_hidden, n_hidden, bias=False),\n",
    "    BatchNorm1d(n_hidden),\n",
    "    Tanh(),\n",
    "    Linear(n_hidden, n_hidden, bias=False),\n",
    "    BatchNorm1d(n_hidden),\n",
    "    Tanh(),\n",
    "    Linear(n_hidden, vocab_size, bias=False),\n",
    "    BatchNorm1d(vocab_size),\n",
    "]\n",
    "# layers = [\n",
    "#   Linear(n_embd * block_size, n_hidden), Tanh(),\n",
    "#   Linear(           n_hidden, n_hidden), Tanh(),\n",
    "#   Linear(           n_hidden, n_hidden), Tanh(),\n",
    "#   Linear(           n_hidden, n_hidden), Tanh(),\n",
    "#   Linear(           n_hidden, n_hidden), Tanh(),\n",
    "#   Linear(           n_hidden, vocab_size),\n",
    "# ]\n",
    "\n",
    "with torch.no_grad():\n",
    "    # last layer: make less confident\n",
    "    layers[-1].gamma *= 0.1\n",
    "    # layers[-1].weight *= 0.1\n",
    "    # all other layers: apply gain\n",
    "    # for layer in layers[:-1]:\n",
    "    #     if isinstance(layer, Linear):\n",
    "    #         layer.weight *= 5 / 3\n",
    "    #         # layer.weight *= 1.0  # 5/3\n",
    "\n",
    "parameters = [C] + [p for layer in layers for p in layer.parameters()]\n",
    "print(sum(p.nelement() for p in parameters))  # number of parameters in total\n",
    "for p in parameters:\n",
    "    p.requires_grad = True"
   ]
  },
  {
   "cell_type": "code",
   "execution_count": 7,
   "metadata": {},
   "outputs": [
    {
     "name": "stdout",
     "output_type": "stream",
     "text": [
      "      0/ 200000: 3.2958\n"
     ]
    }
   ],
   "source": [
    "max_steps = 200000\n",
    "batch_size = 32\n",
    "lossi = []\n",
    "ud = []\n",
    "\n",
    "for i in range(max_steps):\n",
    "    # minibatch construct\n",
    "    ix = torch.randint(0, Xtr.shape[0], (batch_size,), generator=g)\n",
    "    Xb, Yb = Xtr[ix], Ytr[ix]  # batch X,Y\n",
    "\n",
    "    # forward pass\n",
    "    emb = C[Xb]  # embed the characters into vectors\n",
    "    x = emb.view(emb.shape[0], -1)  # concatenate the vectors\n",
    "    for layer in layers:\n",
    "        x = layer(x)\n",
    "    loss = F.cross_entropy(x, Yb)  # loss function\n",
    "\n",
    "    # backward pass\n",
    "    for layer in layers:\n",
    "        layer.out.retain_grad()  # AFTER_DEBUG: would take out retrain_graph\n",
    "    for p in parameters:\n",
    "        p.grad = None\n",
    "    loss.backward()\n",
    "\n",
    "    # update\n",
    "    lr = 0.1 if i < 100000 else 0.01  # step learning rate decay\n",
    "    for p in parameters:\n",
    "        p.data += -lr * p.grad\n",
    "\n",
    "    # track stats\n",
    "    if i % 10000 == 0:\n",
    "        print(f\"{i:7d}/{max_steps:7d}: {loss.item():.4f}\")\n",
    "    lossi.append(loss.log10().item())\n",
    "\n",
    "    with torch.no_grad():\n",
    "        ud.append([(lr*p.grad.std() / p.data.std()).log10().item() for p in parameters])\n",
    "\n",
    "    if i > 1000:\n",
    "        break"
   ]
  },
  {
   "cell_type": "code",
   "execution_count": 8,
   "metadata": {},
   "outputs": [
    {
     "name": "stdout",
     "output_type": "stream",
     "text": [
      "layer 2 (      Tanh): mean +0.00, std 0.00, saturated: 0.00%\n",
      "layer 5 (      Tanh): mean +0.00, std 0.00, saturated: 0.00%\n",
      "layer 8 (      Tanh): mean +0.00, std 0.00, saturated: 0.00%\n",
      "layer 11 (      Tanh): mean +0.00, std 0.00, saturated: 0.00%\n",
      "layer 14 (      Tanh): mean +0.00, std 0.00, saturated: 0.00%\n"
     ]
    },
    {
     "data": {
      "text/plain": [
       "Text(0.5, 1.0, 'activation distribution')"
      ]
     },
     "execution_count": 8,
     "metadata": {},
     "output_type": "execute_result"
    },
    {
     "data": {
      "image/png": "[encoded data removed]",
      "text/plain": [
       "<Figure size 2000x400 with 1 Axes>"
      ]
     },
     "metadata": {},
     "output_type": "display_data"
    }
   ],
   "source": [
    "# visualize histograms\n",
    "plt.figure(figsize=(20, 4))\n",
    "legends = []\n",
    "for i, layer in enumerate(layers[:-1]):  # exclude the output layer\n",
    "    if isinstance(layer, Tanh):\n",
    "        t = layer.out\n",
    "        print(\n",
    "            \"layer %d (%10s): mean %+.2f, std %.2f, saturated: %.2f%%\"\n",
    "            % (i, layer.__class__.__name__, t.mean(), t.std(), (t.abs() > 0.97).float().mean() * 100)\n",
    "        )\n",
    "        hy, hx = torch.histogram(t, density=True)\n",
    "        plt.plot(hx[:-1].detach(), hy.detach())\n",
    "        legends.append(f\"layer {i} ({layer.__class__.__name__}\")\n",
    "plt.legend(legends)\n",
    "plt.title(\"activation distribution\")"
   ]
  },
  {
   "cell_type": "code",
   "execution_count": 9,
   "metadata": {},
   "outputs": [
    {
     "name": "stdout",
     "output_type": "stream",
     "text": [
      "layer 2 (      Tanh): mean +0.000000, std 0.000000e+00\n",
      "layer 5 (      Tanh): mean +0.000000, std 0.000000e+00\n",
      "layer 8 (      Tanh): mean +0.000000, std 0.000000e+00\n",
      "layer 11 (      Tanh): mean +0.000000, std 0.000000e+00\n",
      "layer 14 (      Tanh): mean +0.000000, std 0.000000e+00\n"
     ]
    },
    {
     "data": {
      "text/plain": [
       "Text(0.5, 1.0, 'gradient distribution')"
      ]
     },
     "execution_count": 9,
     "metadata": {},
     "output_type": "execute_result"
    },
    {
     "data": {
      "image/png": "[encoded data removed]",
      "text/plain": [
       "<Figure size 2000x400 with 1 Axes>"
      ]
     },
     "metadata": {},
     "output_type": "display_data"
    }
   ],
   "source": [
    "# visualize histograms\n",
    "plt.figure(figsize=(20, 4)) # width and height of the plot\n",
    "legends = []\n",
    "for i, layer in enumerate(layers[:-1]): # note: exclude the output layer\n",
    "  if isinstance(layer, Tanh):\n",
    "    t = layer.out.grad\n",
    "    print('layer %d (%10s): mean %+f, std %e' % (i, layer.__class__.__name__, t.mean(), t.std()))\n",
    "    hy, hx = torch.histogram(t, density=True)\n",
    "    plt.plot(hx[:-1].detach(), hy.detach())\n",
    "    legends.append(f'layer {i} ({layer.__class__.__name__}')\n",
    "plt.legend(legends);\n",
    "plt.title('gradient distribution')"
   ]
  },
  {
   "cell_type": "code",
   "execution_count": 10,
   "metadata": {},
   "outputs": [
    {
     "name": "stdout",
     "output_type": "stream",
     "text": [
      "weight   (27, 10) | mean +0.000000 | std 0.000000e+00 | grad:data ratio 0.000000e+00\n",
      "weight  (30, 100) | mean +0.000000 | std 0.000000e+00 | grad:data ratio nan\n",
      "weight (100, 100) | mean +0.000000 | std 0.000000e+00 | grad:data ratio nan\n",
      "weight (100, 100) | mean +0.000000 | std 0.000000e+00 | grad:data ratio nan\n",
      "weight (100, 100) | mean +0.000000 | std 0.000000e+00 | grad:data ratio nan\n",
      "weight (100, 100) | mean +0.000000 | std 0.000000e+00 | grad:data ratio nan\n",
      "weight  (100, 27) | mean +0.000000 | std 0.000000e+00 | grad:data ratio nan\n"
     ]
    },
    {
     "data": {
      "text/plain": [
       "Text(0.5, 1.0, 'weights gradient distribution')"
      ]
     },
     "execution_count": 10,
     "metadata": {},
     "output_type": "execute_result"
    },
    {
     "data": {
      "image/png": "[encoded data removed]",
      "text/plain": [
       "<Figure size 2000x400 with 1 Axes>"
      ]
     },
     "metadata": {},
     "output_type": "display_data"
    }
   ],
   "source": [
    "# visualize histograms\n",
    "plt.figure(figsize=(20, 4))  # width and height of the plot\n",
    "legends = []\n",
    "for i, p in enumerate(parameters):\n",
    "    t = p.grad\n",
    "    if p.ndim == 2:\n",
    "        print(\n",
    "            \"weight %10s | mean %+f | std %e | grad:data ratio %e\"\n",
    "            % (tuple(p.shape), t.mean(), t.std(), t.std() / p.std())\n",
    "        )\n",
    "        hy, hx = torch.histogram(t, density=True)\n",
    "        plt.plot(hx[:-1].detach(), hy.detach())\n",
    "        legends.append(f\"{i} {tuple(p.shape)}\")\n",
    "plt.legend(legends)\n",
    "plt.title(\"weights gradient distribution\")"
   ]
  },
  {
   "cell_type": "code",
   "execution_count": 12,
   "metadata": {},
   "outputs": [
    {
     "data": {
      "image/png": "[encoded data removed]",
      "text/plain": [
       "<Figure size 2000x400 with 1 Axes>"
      ]
     },
     "metadata": {},
     "output_type": "display_data"
    }
   ],
   "source": [
    "# Update to data ratio\n",
    "\n",
    "plt.figure(figsize=(20, 4))\n",
    "legends = []\n",
    "for i,p in enumerate(parameters):\n",
    "  if p.ndim == 2:\n",
    "    plt.plot([ud[j][i] for j in range(len(ud))])\n",
    "    legends.append('param %d' % i)\n",
    "# plt.plot([0, len(ud)], [-3, -3], 'k') # these ratios should be ~1e-3, indicate on plot\n",
    "plt.legend(legends);"
   ]
  },
  {
   "cell_type": "code",
   "execution_count": 22,
   "metadata": {},
   "outputs": [
    {
     "data": {
      "text/plain": [
       "tensor([[0., 0., 0.,  ..., 0., 0., 0.],\n",
       "        [0., 0., 0.,  ..., 0., 0., 0.],\n",
       "        [0., 0., 0.,  ..., 0., 0., 0.],\n",
       "        ...,\n",
       "        [0., 0., 0.,  ..., 0., 0., 0.],\n",
       "        [0., 0., 0.,  ..., 0., 0., 0.],\n",
       "        [0., 0., 0.,  ..., 0., 0., 0.]], requires_grad=True)"
      ]
     },
     "execution_count": 22,
     "metadata": {},
     "output_type": "execute_result"
    }
   ],
   "source": [
    "parameters[-3]\n"
   ]
  },
  {
   "cell_type": "code",
   "execution_count": 21,
   "metadata": {},
   "outputs": [
    {
     "data": {
      "text/plain": [
       "tensor([0.1000, 0.1000, 0.1000, 0.1000, 0.1000, 0.1000, 0.1000, 0.1000, 0.1000,\n",
       "        0.1000, 0.1000, 0.1000, 0.1000, 0.1000, 0.1000, 0.1000, 0.1000, 0.1000,\n",
       "        0.1000, 0.1000, 0.1000, 0.1000, 0.1000, 0.1000, 0.1000, 0.1000, 0.1000],\n",
       "       requires_grad=True)"
      ]
     },
     "execution_count": 21,
     "metadata": {},
     "output_type": "execute_result"
    }
   ],
   "source": [
    "parameters[-2]\n"
   ]
  },
  {
   "cell_type": "code",
   "execution_count": 20,
   "metadata": {},
   "outputs": [
    {
     "data": {
      "text/plain": [
       "tensor([ 1.8074,  1.7949, -0.6895, -0.5117, -0.1173,  1.2678, -1.1013, -0.8402,\n",
       "         0.2338,  1.2238, -0.5540, -0.2152,  0.8631,  0.1834,  1.1079,  0.3242,\n",
       "        -1.0492, -1.2786,  0.8189,  0.2792, -0.0543, -0.5487, -0.6416, -1.0706,\n",
       "        -1.1517,  0.5835, -0.6640], requires_grad=True)"
      ]
     },
     "execution_count": 20,
     "metadata": {},
     "output_type": "execute_result"
    }
   ],
   "source": [
    "parameters[-1]"
   ]
  },
  {
   "cell_type": "markdown",
   "metadata": {},
   "source": [
    "## E02:\n",
    "BatchNorm, unlike other normalization layers like LayerNorm/GroupNorm etc. has the big advantage that after training, the batchnorm gamma/beta can be \"folded into\" the weights of the preceeding Linear layers, effectively erasing the need to forward it at test time. Set up a small 3-layer MLP with batchnorms, train the network, then \"fold\" the batchnorm gamma/beta into the preceeding Linear layer's W,b by creating a new W2, b2 and erasing the batch norm. Verify that this gives the same forward pass during inference. i.e. we see that the batchnorm is there just for stabilizing the training, and can be thrown out after training is done! pretty cool."
   ]
  },
  {
   "cell_type": "code",
   "execution_count": 37,
   "metadata": {},
   "outputs": [],
   "source": [
    "class Linear:\n",
    "    def __init__(self, fan_in, fan_out, bias=True):\n",
    "        self.weight: torch.Tensor = torch.randn((fan_in, fan_out), generator=g) / (fan_in**0.5)\n",
    "        self.bias: torch.Tensor | None = torch.zeros(fan_out) if bias else None\n",
    "\n",
    "    def __call__(self, x):\n",
    "        self.out = x @ self.weight\n",
    "        if self.bias is not None:\n",
    "            self.out += self.bias\n",
    "        return self.out\n",
    "\n",
    "    def parameters(self):\n",
    "        if self.bias is not None:\n",
    "            return [self.weight, self.bias]\n",
    "        return [self.weight]\n",
    "\n",
    "\n",
    "class BatchNorm1d:\n",
    "    def __init__(self, dim, eps=1e-5, momentum=0.1):\n",
    "        self.eps = eps\n",
    "        self.momentum = momentum\n",
    "        self.training = True\n",
    "        # parameters (trained with backprop)\n",
    "        self.gamma = torch.ones(dim)\n",
    "        self.beta = torch.zeros(dim)\n",
    "        # buffers (trained with a running 'momentum update')\n",
    "        self.running_mean = torch.zeros(dim)\n",
    "        self.running_var = torch.ones(dim)\n",
    "\n",
    "    def __call__(self, x: torch.Tensor):\n",
    "        # calculate the forward pass\n",
    "        if self.training:\n",
    "            xmean = x.mean(0, keepdim=True)\n",
    "            xvar = x.var(0, keepdim=True)\n",
    "        else:\n",
    "            xmean = self.running_mean\n",
    "            xvar = self.running_var\n",
    "        xhat = (x - xmean) / torch.sqrt(xvar + self.eps)  # normalize to unit variance\n",
    "        self.out = self.gamma * xhat + self.beta\n",
    "        # update the buffers\n",
    "        if self.training:\n",
    "            self.running_mean = (1 - self.momentum) * self.running_mean + self.momentum * xmean\n",
    "            self.running_var = (1 - self.momentum) * self.running_var + self.momentum * xvar\n",
    "        return self.out\n",
    "\n",
    "    def parameters(self):\n",
    "        return [self.gamma, self.beta]\n",
    "\n",
    "\n",
    "class Tanh:\n",
    "    def __call__(self, x):\n",
    "        self.out = torch.tanh(x)\n",
    "        return self.out\n",
    "\n",
    "    def parameters(self):\n",
    "        return []\n",
    "\n"
   ]
  },
  {
   "cell_type": "code",
   "execution_count": 38,
   "metadata": {},
   "outputs": [
    {
     "name": "stdout",
     "output_type": "stream",
     "text": [
      "16424\n"
     ]
    }
   ],
   "source": [
    "\n",
    "n_embd = 10\n",
    "n_hidden = 100\n",
    "g = torch.Generator().manual_seed(2147483647)\n",
    "\n",
    "C = torch.randn((vocab_size, n_embd), generator=g)\n",
    "layers = [\n",
    "    Linear(n_embd * block_size, n_hidden, bias=False),\n",
    "    BatchNorm1d(n_hidden),\n",
    "    Tanh(),\n",
    "    Linear(n_hidden, n_hidden, bias=False),\n",
    "    BatchNorm1d(n_hidden),\n",
    "    Tanh(),\n",
    "    Linear(n_hidden, vocab_size, bias=False),\n",
    "    BatchNorm1d(vocab_size),\n",
    "]\n",
    "# layers = [\n",
    "#   Linear(n_embd * block_size, n_hidden), Tanh(),\n",
    "#   Linear(           n_hidden, n_hidden), Tanh(),\n",
    "#   Linear(           n_hidden, n_hidden), Tanh(),\n",
    "#   Linear(           n_hidden, n_hidden), Tanh(),\n",
    "#   Linear(           n_hidden, n_hidden), Tanh(),\n",
    "#   Linear(           n_hidden, vocab_size),\n",
    "# ]\n",
    "\n",
    "with torch.no_grad():\n",
    "    # last layer: make less confident\n",
    "    layers[-1].gamma *= 0.1\n",
    "    # layers[-1].weight *= 0.1\n",
    "    # all other layers: apply gain\n",
    "    # for layer in layers[:-1]:\n",
    "        # if isinstance(layer, Linear):\n",
    "            # layer.weight *= 5 / 3\n",
    "    #         # layer.weight *= 1.0  # 5/3\n",
    "\n",
    "parameters = [C] + [p for layer in layers for p in layer.parameters()]\n",
    "print(sum(p.nelement() for p in parameters))  # number of parameters in total\n",
    "for p in parameters:\n",
    "    p.requires_grad = True"
   ]
  },
  {
   "cell_type": "code",
   "execution_count": 39,
   "metadata": {},
   "outputs": [
    {
     "name": "stdout",
     "output_type": "stream",
     "text": [
      "      0/ 200000: 3.3138\n",
      "  10000/ 200000: 2.7694\n",
      "  20000/ 200000: 2.2692\n",
      "  30000/ 200000: 2.2127\n",
      "  40000/ 200000: 2.2313\n",
      "  50000/ 200000: 2.0179\n",
      "  60000/ 200000: 1.7573\n",
      "  70000/ 200000: 2.0154\n",
      "  80000/ 200000: 2.2664\n",
      "  90000/ 200000: 1.8668\n",
      " 100000/ 200000: 1.9899\n",
      " 110000/ 200000: 1.9816\n",
      " 120000/ 200000: 2.2865\n",
      " 130000/ 200000: 1.9451\n",
      " 140000/ 200000: 1.8205\n",
      " 150000/ 200000: 2.0228\n",
      " 160000/ 200000: 2.2013\n",
      " 170000/ 200000: 1.8242\n",
      " 180000/ 200000: 2.3492\n",
      " 190000/ 200000: 2.0787\n"
     ]
    }
   ],
   "source": [
    "max_steps = 200000\n",
    "batch_size = 32\n",
    "lossi = []\n",
    "ud = []\n",
    "\n",
    "for i in range(max_steps):\n",
    "    # minibatch construct\n",
    "    ix = torch.randint(0, Xtr.shape[0], (batch_size,), generator=g)\n",
    "    Xb, Yb = Xtr[ix], Ytr[ix]  # batch X,Y\n",
    "\n",
    "    # forward pass\n",
    "    emb = C[Xb]  # embed the characters into vectors\n",
    "    x = emb.view(emb.shape[0], -1)  # concatenate the vectors\n",
    "    for layer in layers:\n",
    "        x = layer(x)\n",
    "    loss = F.cross_entropy(x, Yb)  # loss function\n",
    "\n",
    "    # backward pass\n",
    "    for layer in layers:\n",
    "        layer.out.retain_grad()  # AFTER_DEBUG: would take out retrain_graph\n",
    "    for p in parameters:\n",
    "        p.grad = None\n",
    "    loss.backward()\n",
    "\n",
    "    # update\n",
    "    lr = 0.1 if i < 100000 else 0.01  # step learning rate decay\n",
    "    for p in parameters:\n",
    "        p.data += -lr * p.grad\n",
    "\n",
    "    # track stats\n",
    "    if i % 10000 == 0:\n",
    "        print(f\"{i:7d}/{max_steps:7d}: {loss.item():.4f}\")\n",
    "    lossi.append(loss.log10().item())\n",
    "\n",
    "    with torch.no_grad():\n",
    "        ud.append([(lr*p.grad.std() / p.data.std()).log10().item() for p in parameters])\n",
    "\n",
    "    # if i > 1000:\n",
    "    #     break"
   ]
  },
  {
   "cell_type": "code",
   "execution_count": null,
   "metadata": {},
   "outputs": [],
   "source": [
    "# # calibrate the batch norm at the end of training\n",
    "\n",
    "# with torch.no_grad():\n",
    "#     # pass the training set through\n",
    "#     emb = C[Xtr]\n",
    "#     embcat = emb.view(emb.shape[0], -1)\n",
    "#     hpreact = embcat @ W1  # + b1\n",
    "#     # measure the mean/std over the entire training set\n",
    "#     bnmean = hpreact.mean(0, keepdim=True)\n",
    "#     bnstd = hpreact.std(0, keepdim=True)"
   ]
  },
  {
   "cell_type": "code",
   "execution_count": 41,
   "metadata": {},
   "outputs": [
    {
     "name": "stdout",
     "output_type": "stream",
     "text": [
      "train 2.0559518337249756\n",
      "val 2.106550931930542\n"
     ]
    }
   ],
   "source": [
    "@torch.no_grad()  # this decorator disables gradient tracking\n",
    "def split_loss(split):\n",
    "    x_set, y_set = {\n",
    "        \"train\": (Xtr, Ytr),\n",
    "        \"val\": (Xdev, Ydev),\n",
    "        \"test\": (Xte, Yte),\n",
    "    }[split]\n",
    "    emb = C[x_set]  # (N, block_size, n_embd)\n",
    "    x_in = emb.view(emb.shape[0], -1)  # concat into (N, block_size * n_embd)\n",
    "    for layer in layers:\n",
    "        if isinstance(layer, BatchNorm1d):\n",
    "            layer.training = False\n",
    "        x_in = layer(x_in)\n",
    "    loss = F.cross_entropy(x_in, y_set)  # loss function\n",
    "    # hpreact = embcat @ W1  # + b1\n",
    "    # hpreact = bngain * (hpreact - hpreact.mean(0, keepdim=True)) / hpreact.std(0, keepdim=True) + bnbias\n",
    "    # hpreact = bngain * (hpreact - bnmean_running) / bnstd_running + bnbias\n",
    "    # h = torch.tanh(hpreact)  # (N, n_hidden)\n",
    "    # logits = h @ W2 + b2  # (N, vocab_size)\n",
    "    # loss = F.cross_entropy(logits, y)\n",
    "    print(split, loss.item())\n",
    "\n",
    "\n",
    "split_loss(\"train\")\n",
    "split_loss(\"val\")"
   ]
  },
  {
   "cell_type": "code",
   "execution_count": 29,
   "metadata": {},
   "outputs": [
    {
     "data": {
      "text/plain": [
       "[<__main__.Linear at 0x7f265b734c40>,\n",
       " <__main__.BatchNorm1d at 0x7f27442c53f0>,\n",
       " <__main__.Tanh at 0x7f27442c5450>,\n",
       " <__main__.Linear at 0x7f27442c48e0>,\n",
       " <__main__.BatchNorm1d at 0x7f265c48db70>,\n",
       " <__main__.Tanh at 0x7f265c48db10>,\n",
       " <__main__.Linear at 0x7f265c48db40>,\n",
       " <__main__.BatchNorm1d at 0x7f265c48dc60>]"
      ]
     },
     "execution_count": 29,
     "metadata": {},
     "output_type": "execute_result"
    }
   ],
   "source": [
    "layers"
   ]
  },
  {
   "cell_type": "code",
   "execution_count": 42,
   "metadata": {},
   "outputs": [],
   "source": [
    "new_parameters = [C]\n",
    "current_linear = None\n",
    "for layer in layers:\n",
    "    if isinstance(layer, Linear):\n",
    "        # Copy the linear layer weights\n",
    "        current_linear = Linear(layer.weight.shape[0], layer.weight.shape[1], bias=False)\n",
    "        current_linear.weight = layer.weight.clone()\n",
    "    elif isinstance(layer, BatchNorm1d):\n",
    "        if current_linear is None:\n",
    "            raise ValueError(\"BatchNorm1d must be preceded by a Linear layer\")\n",
    "        with torch.no_grad():\n",
    "            xmean = layer.running_mean\n",
    "            xvar = layer.running_var\n",
    "            ## x = x @ linear.weight\n",
    "            ## xhat = ((x @ linear.weight) - xmean) / torch.sqrt(xvar + self.eps)\n",
    "            ## xhat = (x) @ (linear.weight / torch.sqrt(xvar + self.eps)) - (xmean / torch.sqrt(xvar + self.eps))\n",
    "            ## xhat = (x) @ (new_weight) - (new_bias)\n",
    "            ## self.out = self.gamma * xhat + self.beta\n",
    "            ## self.out = self.gamma * (x @ new_weight - new_bias) + self.beta\n",
    "            ## self.out = (x) @ (self.gamma * new_weight) + (self.beta - self.gamma * new_bias)\n",
    "            ## self.out = x @ new_new_weight + new_new_bias\n",
    "            ## new_new_weight = self.gamma * new_weight\n",
    "            ## new_new_weight = self.gamma * linear.weight / torch.sqrt(xvar + self.eps)\n",
    "            ## new_new_bias = self.beta - self.gamma * new_bias\n",
    "            ## new_new_bias = self.beta - self.gamma * (xmean / torch.sqrt(xvar + self.eps))\n",
    "            # xhat = (x - xmean) / torch.sqrt(xvar + self.eps)  # normalize to unit variance\n",
    "            # self.out = self.gamma * xhat + self.beta\n",
    "            current_linear.weight = layer.gamma * current_linear.weight / torch.sqrt(xvar + layer.eps)\n",
    "            current_linear.bias = layer.beta - layer.gamma * (xmean / torch.sqrt(xvar + layer.eps))\n",
    "        new_parameters.append(current_linear)\n",
    "        current_linear = None\n",
    "    elif isinstance(layer, Tanh):\n",
    "        new_parameters.append(layer)\n",
    "\n",
    "\n",
    "# @torch.no_grad()\n",
    "# def split_loss_"
   ]
  },
  {
   "cell_type": "code",
   "execution_count": 31,
   "metadata": {},
   "outputs": [
    {
     "data": {
      "text/plain": [
       "[tensor([[ 1.4142e+00,  4.1258e-01,  1.8476e-01, -8.6088e-01,  7.9772e-01,\n",
       "           5.3211e-01, -1.0263e+00,  3.3530e-02, -5.8620e-01,  4.4500e-01],\n",
       "         [-1.6148e-01,  1.0738e+00, -4.4681e-01, -7.4656e-01,  1.4852e+00,\n",
       "           2.2486e+00,  4.4211e-01, -8.3408e-01,  1.7973e-01, -7.0615e-01],\n",
       "         [ 1.1665e+00,  3.1096e-02, -1.7251e+00,  1.5979e-01, -7.8129e-01,\n",
       "           2.3377e+00,  2.7058e+00, -5.2057e-02, -1.4282e+00,  1.1684e+00],\n",
       "         [-1.3278e+00,  1.1585e+00,  4.9057e-01,  1.0672e+00, -5.9647e-01,\n",
       "          -5.2113e-01, -1.8481e+00,  1.4659e+00, -7.0108e-01,  9.0666e-01],\n",
       "         [-5.9129e-01,  6.1353e-02, -2.2692e-01,  3.9714e-01, -1.3563e+00,\n",
       "           1.5574e+00, -5.3563e-02,  9.8532e-01,  4.0479e-01, -8.3962e-01],\n",
       "         [ 1.5320e-01,  1.1300e+00,  7.8371e-01, -2.0262e+00,  6.0413e-01,\n",
       "          -1.8288e-01,  7.8853e-01,  1.0000e+00, -6.9809e-01, -1.3281e+00],\n",
       "         [ 3.3711e-01,  1.0058e-01, -1.0949e+00, -6.2550e-01,  4.9010e-01,\n",
       "          -4.4940e-01,  1.8062e+00,  2.2783e+00, -1.0353e+00,  1.4998e+00],\n",
       "         [ 6.7259e-01,  1.6384e+00, -1.1044e+00,  2.3517e-01, -1.8814e+00,\n",
       "           1.8550e+00,  1.1848e-01,  8.5782e-01, -9.6471e-01,  1.1208e+00],\n",
       "         [-1.0156e+00,  4.9826e-01, -3.8083e-01, -1.1025e+00,  1.0344e+00,\n",
       "           1.3037e-01,  1.3444e+00, -1.0698e+00, -9.5346e-01,  2.1714e+00],\n",
       "         [-8.0442e-01,  5.9323e-01,  6.8511e-01, -1.6304e+00, -7.1387e-01,\n",
       "           1.0414e+00, -6.7972e-01, -7.3428e-01, -2.2333e+00, -9.8805e-01],\n",
       "         [-6.4472e-01, -3.2109e-01, -2.3589e+00, -1.7761e-01, -7.9693e-01,\n",
       "          -3.1415e-01, -1.5301e+00, -1.3427e+00, -1.3327e+00,  9.5988e-01],\n",
       "         [-9.7464e-01,  6.8079e-01,  3.3959e-01, -1.4857e+00, -2.6901e-01,\n",
       "          -3.4963e-01, -1.5937e+00,  6.0083e-01,  7.2548e-01,  1.4163e+00],\n",
       "         [-6.0883e-01, -5.1506e-01, -8.9161e-01, -2.0272e+00, -1.5522e+00,\n",
       "           6.0339e-01, -1.1420e+00, -6.6815e-01,  8.9443e-01, -2.1171e-01],\n",
       "         [-2.5910e-01, -6.1080e-01, -1.1774e+00, -1.7429e+00,  3.2054e-01,\n",
       "           3.7682e-01,  1.4416e+00,  5.2718e-01,  9.9775e-01,  1.6959e+00],\n",
       "         [ 2.4545e-01, -2.0042e+00,  1.3252e+00, -7.6323e-01,  3.7501e-01,\n",
       "           1.2065e+00,  3.4469e-01, -6.7947e-01, -1.3280e-01, -4.4036e-01],\n",
       "         [ 2.4762e-01,  1.1717e+00, -1.7576e+00,  7.2375e-01,  8.7694e-01,\n",
       "           8.5869e-01, -1.3492e-03,  6.4204e-01, -2.3147e+00, -1.7147e+00],\n",
       "         [-2.7617e+00,  9.2132e-01,  1.4407e+00,  1.1068e+00,  2.5680e+00,\n",
       "          -6.7047e-01,  4.2127e-01,  1.2244e+00,  2.3092e-01,  2.6016e-01],\n",
       "         [ 1.5741e+00,  7.6069e-01,  4.2299e-01,  1.0292e+00, -7.2963e-01,\n",
       "          -7.0417e-01, -1.7262e+00, -1.8111e-01,  3.5716e+00, -5.6312e-02],\n",
       "         [ 1.2651e+00, -1.1921e+00, -1.3130e+00,  8.1214e-02, -1.2839e-01,\n",
       "          -5.8427e-02,  6.9252e-01, -7.7273e-02,  5.9280e-01, -1.5657e+00],\n",
       "         [-5.4012e-04,  5.4709e-01,  7.2132e-01,  1.7743e+00,  3.3940e-02,\n",
       "          -6.1948e-01,  1.0156e-01, -1.4240e+00, -2.4605e-01, -3.4815e-01],\n",
       "         [ 9.6524e-01,  1.1906e+00,  1.2502e+00,  1.1109e+00, -1.9751e+00,\n",
       "           6.0839e-01,  9.1952e-01, -8.8148e-01,  5.3841e-01, -5.2694e-01],\n",
       "         [ 5.4635e-01,  2.7045e+00, -9.2653e-02, -2.2021e+00, -2.1552e-01,\n",
       "          -8.0794e-01,  1.0505e+00, -9.0376e-01,  8.9390e-01, -5.5198e-01],\n",
       "         [ 1.1024e+00, -1.3657e+00, -1.3426e+00, -6.5912e-01, -1.4701e+00,\n",
       "           6.1604e-01, -5.5183e-01,  2.0808e+00, -9.7736e-01, -1.2448e-01],\n",
       "         [-9.9569e-01, -3.7728e-01, -6.6354e-01,  1.4809e+00, -9.5196e-02,\n",
       "           6.0606e-01,  1.2890e+00,  3.3085e+00, -8.5241e-01, -4.6144e-01],\n",
       "         [ 1.7643e-01, -2.0726e-01, -1.0202e+00,  6.9086e-01,  8.0494e-01,\n",
       "          -1.1748e+00, -1.6871e-01,  7.4503e-01, -6.5771e-01, -8.1574e-01],\n",
       "         [-1.1033e+00, -2.6429e-01, -5.1042e-01, -1.0143e+00,  7.7898e-01,\n",
       "          -9.2270e-01,  3.1987e-01, -1.4169e+00, -1.5918e+00, -1.0357e+00],\n",
       "         [-1.4051e+00, -9.5701e-01, -3.7461e-01, -1.1426e-01,  7.8835e-01,\n",
       "           9.7272e-02, -1.1167e+00,  4.5783e-01, -1.4723e-01,  1.8053e-01]],\n",
       "        requires_grad=True),\n",
       " <__main__.Linear at 0x7f2660e32620>,\n",
       " <__main__.Tanh at 0x7f27442c5450>,\n",
       " <__main__.Linear at 0x7f265b68b520>,\n",
       " <__main__.Tanh at 0x7f265c48db10>,\n",
       " <__main__.Linear at 0x7f265b689030>]"
      ]
     },
     "execution_count": 31,
     "metadata": {},
     "output_type": "execute_result"
    }
   ],
   "source": [
    "new_parameters"
   ]
  },
  {
   "cell_type": "code",
   "execution_count": 43,
   "metadata": {},
   "outputs": [
    {
     "name": "stdout",
     "output_type": "stream",
     "text": [
      "train 2.0559518337249756\n",
      "val 2.106550931930542\n"
     ]
    }
   ],
   "source": [
    "@torch.no_grad()  # this decorator disables gradient tracking\n",
    "def new_split_loss(split):\n",
    "    x_set, y_set = {\n",
    "        \"train\": (Xtr, Ytr),\n",
    "        \"val\": (Xdev, Ydev),\n",
    "        \"test\": (Xte, Yte),\n",
    "    }[split]\n",
    "    emb = C[x_set]  # (N, block_size, n_embd)\n",
    "    x_in = emb.view(emb.shape[0], -1)  # concat into (N, block_size * n_embd)\n",
    "    for layer in new_parameters[1:]:\n",
    "        x_in = layer(x_in)\n",
    "    loss = F.cross_entropy(x_in, y_set)  # loss function\n",
    "    # hpreact = embcat @ W1  # + b1\n",
    "    # hpreact = bngain * (hpreact - hpreact.mean(0, keepdim=True)) / hpreact.std(0, keepdim=True) + bnbias\n",
    "    # hpreact = bngain * (hpreact - bnmean_running) / bnstd_running + bnbias\n",
    "    # h = torch.tanh(hpreact)  # (N, n_hidden)\n",
    "    # logits = h @ W2 + b2  # (N, vocab_size)\n",
    "    # loss = F.cross_entropy(logits, y)\n",
    "    print(split, loss.item())\n",
    "\n",
    "\n",
    "new_split_loss(\"train\")\n",
    "new_split_loss(\"val\")"
   ]
  },
  {
   "cell_type": "code",
   "execution_count": null,
   "metadata": {},
   "outputs": [],
   "source": [
    "# sample from the model\n",
    "g = torch.Generator().manual_seed(2147483647 + 10)\n",
    "\n",
    "for _ in range(20):\n",
    "    out = []\n",
    "    context = [0] * block_size\n",
    "    while True:\n",
    "        emb = C[torch.tensor([context])]\n",
    "        h = torch.tanh(emb.view(1, -1) @ W1 + b1)\n",
    "        logits = h @ W2 + b2\n",
    "        probs = F.softmax(logits, dim=1)\n",
    "        # sample from the distribution\n",
    "        ix = torch.multinomial(probs, num_samples=1, generator=g).item()\n",
    "        # shift the context window and track the samples\n",
    "        context = context[1:] + [ix]\n",
    "        out.append(ix)\n",
    "        if ix == 0:\n",
    "            break\n",
    "    print(\"\".join(itos[i] for i in out))"
   ]
  }
 ],
 "metadata": {
  "kernelspec": {
   "display_name": "karpathy",
   "language": "python",
   "name": "python3"
  },
  "language_info": {
   "codemirror_mode": {
    "name": "ipython",
    "version": 3
   },
   "file_extension": ".py",
   "mimetype": "text/x-python",
   "name": "python",
   "nbconvert_exporter": "python",
   "pygments_lexer": "ipython3",
   "version": "3.10.11"
  }
 },
 "nbformat": 4,
 "nbformat_minor": 2
}
